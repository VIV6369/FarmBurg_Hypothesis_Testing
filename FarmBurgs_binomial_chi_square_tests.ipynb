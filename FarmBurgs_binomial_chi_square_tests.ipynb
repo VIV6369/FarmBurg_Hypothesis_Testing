{
 "cells": [
  {
   "cell_type": "markdown",
   "id": "66b24f83",
   "metadata": {},
   "source": [
    "### Analyzing Farmburg's A/B Test\n",
    "\n",
    "Brian is a Product Manager at FarmBurg, a company that makes a farming simulation social network game. In the FarmBurg game, you can plow, plant, and harvest different crops. Brian has been conducting an A/B Test with three different variants, and he wants you to help him analyze the results. Using the Python modules pandas and SciPy, you will help him make some important business decisions!\n",
    "\n",
    "\n",
    "Brian ran an A/B test with three different groups: A, B, and C. He has provided us with a CSV file of his results named clicks.csv. It has the following columns:\n",
    "\n",
    "* user_id: a unique id for each visitor to the FarmBurg site\n",
    "* group: either 'A', 'B', or 'C' depending on which group the visitor was assigned to\n",
    "* is_purchase: either 'Yes' if the visitor made a purchase or 'No' if they did not."
   ]
  },
  {
   "cell_type": "code",
   "execution_count": 2,
   "id": "cffd0846",
   "metadata": {},
   "outputs": [
    {
     "data": {
      "text/html": [
       "<div>\n",
       "<style scoped>\n",
       "    .dataframe tbody tr th:only-of-type {\n",
       "        vertical-align: middle;\n",
       "    }\n",
       "\n",
       "    .dataframe tbody tr th {\n",
       "        vertical-align: top;\n",
       "    }\n",
       "\n",
       "    .dataframe thead th {\n",
       "        text-align: right;\n",
       "    }\n",
       "</style>\n",
       "<table border=\"1\" class=\"dataframe\">\n",
       "  <thead>\n",
       "    <tr style=\"text-align: right;\">\n",
       "      <th></th>\n",
       "      <th>user_id</th>\n",
       "      <th>group</th>\n",
       "      <th>is_purchase</th>\n",
       "    </tr>\n",
       "  </thead>\n",
       "  <tbody>\n",
       "    <tr>\n",
       "      <th>0</th>\n",
       "      <td>8e27bf9a</td>\n",
       "      <td>A</td>\n",
       "      <td>No</td>\n",
       "    </tr>\n",
       "    <tr>\n",
       "      <th>1</th>\n",
       "      <td>eb89e6f0</td>\n",
       "      <td>A</td>\n",
       "      <td>No</td>\n",
       "    </tr>\n",
       "    <tr>\n",
       "      <th>2</th>\n",
       "      <td>7119106a</td>\n",
       "      <td>A</td>\n",
       "      <td>No</td>\n",
       "    </tr>\n",
       "    <tr>\n",
       "      <th>3</th>\n",
       "      <td>e53781ff</td>\n",
       "      <td>A</td>\n",
       "      <td>No</td>\n",
       "    </tr>\n",
       "    <tr>\n",
       "      <th>4</th>\n",
       "      <td>02d48cf1</td>\n",
       "      <td>A</td>\n",
       "      <td>Yes</td>\n",
       "    </tr>\n",
       "  </tbody>\n",
       "</table>\n",
       "</div>"
      ],
      "text/plain": [
       "    user_id group is_purchase\n",
       "0  8e27bf9a     A          No\n",
       "1  eb89e6f0     A          No\n",
       "2  7119106a     A          No\n",
       "3  e53781ff     A          No\n",
       "4  02d48cf1     A         Yes"
      ]
     },
     "execution_count": 2,
     "metadata": {},
     "output_type": "execute_result"
    }
   ],
   "source": [
    "# Import libraries\n",
    "import pandas as pd\n",
    "import numpy as np\n",
    "\n",
    "# Read in the `clicks.csv` file as `abdata`\n",
    "abdata = pd.read_csv('clicks.csv')\n",
    "#Inspect data\n",
    "abdata.head()"
   ]
  },
  {
   "cell_type": "markdown",
   "id": "7f5af35a",
   "metadata": {},
   "source": [
    "Note that we have two categorical variables: group and is_purchase. We are interested in whether visitors are more likely to make a purchase if they are in any one group compared to the others. Because we want to know if there is an association between two categorical variables, we’ll start by using a Chi-Square test to address our question."
   ]
  },
  {
   "cell_type": "code",
   "execution_count": 3,
   "id": "743c7304",
   "metadata": {},
   "outputs": [
    {
     "name": "stdout",
     "output_type": "stream",
     "text": [
      "P-value: 2.4126213546684264e-35\n",
      "Since our p-value is less than 0.05 threshold we can conclude that there is a significant difference in the purchase rate for groups A, B, and C.\n"
     ]
    }
   ],
   "source": [
    "# Creating contingency table\n",
    "Xtab = pd.crosstab(abdata.group, abdata.is_purchase)\n",
    "\n",
    "# Chi-Square Test\n",
    "from scipy.stats import chi2_contingency\n",
    "chi2, pval_chi, dof, expected = chi2_contingency(Xtab)\n",
    "print(\"P-value:\", pval_chi)\n",
    "print(\"Since our p-value is less than 0.05 threshold we can conclude that there is a significant difference in the purchase rate for groups A, B, and C.\")"
   ]
  },
  {
   "cell_type": "markdown",
   "id": "c58572b4",
   "metadata": {},
   "source": [
    "##### Problem\n",
    "\n",
    "Our day is a little less busy than expected, so we decide to ask Brian about his test.\n",
    "\n",
    "**Us**: Hey Brian! What was that test you were running anyway?\n",
    "\n",
    "**Brian**: We are trying to get users to purchase a small FarmBurg upgrade package. It’s called a microtransaction. We’re not sure how much to charge for it, so we tested three different price points: 0.99 (group 'A'), 1.99 (group 'B'), and 4.99 (group 'C'). It looks like significantly more people bought the upgrade package for 0.99, so I guess that’s what we’ll charge.\n",
    "\n",
    "**Us**: Oh no! We should have asked you this before we did that Chi-Square test. That wasn’t the right test at all. It’s true that more people wanted to purchase the upgrade at 0.99; you probably expected that. What we really want to know is whether *each price point* allows us to make enough money that we can *exceed* some *target goal*. Brian, how much do you think it cost to build this feature?\n",
    "\n",
    "**Brian**: Hmm. I guess that we need to generate a minimum of 1000$ in revenue per week in order to justify this project.\n",
    "\n",
    "**Us**: We have some work to do!\n",
    "\n",
    "In order to justify this feature, we will need to calculate the *necessary purchase rate* for each price point. It turns out that Brian ran his original test over the course of a week, so the number of visitors in abdata is equal to the number of visitors in a typical week."
   ]
  },
  {
   "cell_type": "code",
   "execution_count": 9,
   "id": "1190e2e1",
   "metadata": {},
   "outputs": [
    {
     "name": "stdout",
     "output_type": "stream",
     "text": [
      "0.20228091236494597 0.10064025610244097 0.040216086434573826\n"
     ]
    }
   ],
   "source": [
    "# Calculating necessary purchase rate\n",
    "num_visits = len(abdata)\n",
    "\n",
    "# number of sales of 0.99 needed to get 1000$ a week \n",
    "num_sales_needed_099 = np.ceil(1000/0.99)\n",
    "# proportion of week sales\n",
    "p_sales_needed_099 = num_sales_needed_099 / num_visits\n",
    "\n",
    "\n",
    "# # number of sales of 1.99 needed to get 1000$ a week \n",
    "num_sales_needed_199 = np.ceil(1000/1.99)\n",
    "# proportion of week sales\n",
    "p_sales_needed_199 = num_sales_needed_199 / num_visits\n",
    "\n",
    "# number of sales of 4.99 needed to get 1000$ a week \n",
    "num_sales_needed_499 = np.ceil(1000/4.99)\n",
    "# proportion of week sales\n",
    "p_sales_needed_499 = num_sales_needed_499 / num_visits\n",
    "\n",
    "print(p_sales_needed_099,p_sales_needed_199,p_sales_needed_499)\n"
   ]
  },
  {
   "cell_type": "markdown",
   "id": "b663ee21",
   "metadata": {},
   "source": [
    "Now let’s return to Brian’s question. To start, we want to know if the percent of Group A (the 0.99 price point) that purchased an upgrade package is significantly greater than p_sales_needed_099 (the percent of visitors who need to buy an upgrade package at 0.99 in order to make our minimum revenue target of 1,000).\n",
    "\n",
    "To answer this question, we want to focus on just the visitors in group A. Then, we want to compare the number of purchases in that group to p_sales_needed_099.\n",
    "\n",
    "Since we have a single sample of categorical data and want to compare it to a hypothetical population value, a binomial test is appropriate. In order to run a binomial test for group A, we need to know two pieces of information:\n",
    "\n",
    "* The number of visitors in group A (the number of visitors who were offered the 0.99 price point)\n",
    "* The number of visitors in Group A who made a purchase"
   ]
  },
  {
   "cell_type": "code",
   "execution_count": 18,
   "id": "0c6c9daf",
   "metadata": {},
   "outputs": [
    {
     "data": {
      "text/html": [
       "<div>\n",
       "<style scoped>\n",
       "    .dataframe tbody tr th:only-of-type {\n",
       "        vertical-align: middle;\n",
       "    }\n",
       "\n",
       "    .dataframe tbody tr th {\n",
       "        vertical-align: top;\n",
       "    }\n",
       "\n",
       "    .dataframe thead th {\n",
       "        text-align: right;\n",
       "    }\n",
       "</style>\n",
       "<table border=\"1\" class=\"dataframe\">\n",
       "  <thead>\n",
       "    <tr style=\"text-align: right;\">\n",
       "      <th>is_purchase</th>\n",
       "      <th>No</th>\n",
       "      <th>Yes</th>\n",
       "    </tr>\n",
       "    <tr>\n",
       "      <th>group</th>\n",
       "      <th></th>\n",
       "      <th></th>\n",
       "    </tr>\n",
       "  </thead>\n",
       "  <tbody>\n",
       "    <tr>\n",
       "      <th>A</th>\n",
       "      <td>1350</td>\n",
       "      <td>316</td>\n",
       "    </tr>\n",
       "    <tr>\n",
       "      <th>B</th>\n",
       "      <td>1483</td>\n",
       "      <td>183</td>\n",
       "    </tr>\n",
       "    <tr>\n",
       "      <th>C</th>\n",
       "      <td>1583</td>\n",
       "      <td>83</td>\n",
       "    </tr>\n",
       "  </tbody>\n",
       "</table>\n",
       "</div>"
      ],
      "text/plain": [
       "is_purchase    No  Yes\n",
       "group                 \n",
       "A            1350  316\n",
       "B            1483  183\n",
       "C            1583   83"
      ]
     },
     "execution_count": 18,
     "metadata": {},
     "output_type": "execute_result"
    }
   ],
   "source": [
    "# Let's go back to our contingency table and get those values from there\n",
    "Xtab"
   ]
  },
  {
   "cell_type": "code",
   "execution_count": 23,
   "id": "63fb9aa8",
   "metadata": {},
   "outputs": [
    {
     "name": "stdout",
     "output_type": "stream",
     "text": [
      "1666 316\n"
     ]
    }
   ],
   "source": [
    "# Group A number of visitors and their purchase\n",
    "samp_size_099 = Xtab.No[0] + Xtab.Yes[0]\n",
    "sales_099 = Xtab.Yes[0]\n",
    "\n",
    "#Alternative way\n",
    "#samp_size_099 = np.sum(abdata.group == 'A')\n",
    "#sales_099 = np.sum((abdata.group == 'A') & (abdata.is_purchase == 'Yes'))\n",
    "\n",
    "print(samp_size_099, sales_099)"
   ]
  },
  {
   "cell_type": "code",
   "execution_count": 24,
   "id": "80fc5cf5",
   "metadata": {},
   "outputs": [
    {
     "name": "stdout",
     "output_type": "stream",
     "text": [
      "1666 183\n"
     ]
    }
   ],
   "source": [
    "# Group B number of visitors and their purchase\n",
    "samp_size_199 = Xtab.No[1] + Xtab.Yes[1]\n",
    "sales_199 = Xtab.Yes[1]\n",
    "\n",
    "#Alternative way\n",
    "#samp_size_199 = np.sum(abdata.group == 'B')\n",
    "#sales_199 = np.sum((abdata.group == 'B') & (abdata.is_purchase == 'Yes'))\n",
    "\n",
    "print(samp_size_199, sales_199)"
   ]
  },
  {
   "cell_type": "code",
   "execution_count": 25,
   "id": "b7316c17",
   "metadata": {},
   "outputs": [
    {
     "name": "stdout",
     "output_type": "stream",
     "text": [
      "1666 83\n"
     ]
    }
   ],
   "source": [
    "# Group C number of visitors and their purchase\n",
    "samp_size_499 = Xtab.No[2] + Xtab.Yes[2]\n",
    "sales_499 = Xtab.Yes[2]\n",
    "\n",
    "#Alternative way\n",
    "#samp_size_499 = np.sum(abdata.group == 'C')\n",
    "#sales_499 = np.sum((abdata.group == 'C') & (abdata.is_purchase == 'Yes'))\n",
    "\n",
    "print(samp_size_499, sales_499)"
   ]
  },
  {
   "cell_type": "markdown",
   "id": "299eeb70",
   "metadata": {},
   "source": [
    "For Group A (0.99 price point), perform a binomial test using binom_test() to see if the observed purchase rate is significantly greater than p_sales_needed_099. Remember that there are four inputs to binom_test():\n",
    "\n",
    "* x will be the number of purchases for Group A\n",
    "* n will be the total number of visitors assigned group A\n",
    "* p will be the target percent of purchases for the 0.99 price point\n",
    "* alternative will indicate the alternative hypothesis for this test; in this case, we want to know if the observed purchase rate is significantly 'greater' than the purchase rate that results in the minimum revenue target."
   ]
  },
  {
   "cell_type": "code",
   "execution_count": 30,
   "id": "e50e3006",
   "metadata": {},
   "outputs": [
    {
     "name": "stdout",
     "output_type": "stream",
     "text": [
      "Binomial test P-value: 0.9058887362654584\n",
      "Since our p-value is more than 0.05 threshold we can conclude that the purchase rate is NOT significantly higher than the target needed to reach $1000 revenue per week.\n"
     ]
    }
   ],
   "source": [
    "# Binomial test Group A\n",
    "from scipy.stats import binom_test\n",
    "p_valueA = binom_test(sales_099, n=samp_size_099, p =p_sales_needed_099, alternative = 'greater')\n",
    "print(\"Binomial test P-value:\", p_valueA)\n",
    "print(\"Since our p-value is more than 0.05 threshold we can conclude that the purchase rate is NOT significantly higher than the target needed to reach $1000 revenue per week.\")"
   ]
  },
  {
   "cell_type": "code",
   "execution_count": 32,
   "id": "a4ca924e",
   "metadata": {},
   "outputs": [
    {
     "name": "stdout",
     "output_type": "stream",
     "text": [
      "Binomial test P-value: 0.11441815431122185\n",
      "Since our p-value is more than 0.05 threshold we can conclude that the purchase rate is NOT significantly higher than the target needed to reach $1000 revenue per week.\n"
     ]
    }
   ],
   "source": [
    "# Binomial test Group B\n",
    "from scipy.stats import binom_test\n",
    "p_valueB = binom_test(sales_199, n=samp_size_199, p =p_sales_needed_199, alternative = 'greater')\n",
    "print(\"Binomial test P-value:\", p_valueB)\n",
    "print(\"Since our p-value is more than 0.05 threshold we can conclude that the purchase rate is NOT significantly higher than the target needed to reach $1000 revenue per week.\")"
   ]
  },
  {
   "cell_type": "code",
   "execution_count": 35,
   "id": "dcc06ddf",
   "metadata": {},
   "outputs": [
    {
     "name": "stdout",
     "output_type": "stream",
     "text": [
      "Binomial test P-value: 0.029642608610084057\n",
      "Since our p-value is less than 0.05 threshold we can conclude that the purchase rate is significantly higher than the target needed to reach $1000 revenue per week.\n"
     ]
    }
   ],
   "source": [
    "# Binomial test Group C\n",
    "from scipy.stats import binom_test\n",
    "p_valueC = binom_test(sales_499, n=samp_size_499, p =p_sales_needed_499, alternative = 'greater')\n",
    "print(\"Binomial test P-value:\", p_valueC)\n",
    "print(\"Since our p-value is less than 0.05 threshold we can conclude that the purchase rate is significantly higher than the target needed to reach $1000 revenue per week.\")"
   ]
  },
  {
   "cell_type": "markdown",
   "id": "6df41c94",
   "metadata": {},
   "source": [
    "#### Conclusion\n",
    "\n",
    "After running binomial test for Groups A,B and C and getting their *pvalue* we can conclude that only Group C has pvalue less than 0.05 threshold. Which makes it the only group that will bring more revenue than target needed to reach 1000 a week. Therefore, Brian should charge 4.99 for the upgrade."
   ]
  },
  {
   "cell_type": "code",
   "execution_count": null,
   "id": "da826faf",
   "metadata": {},
   "outputs": [],
   "source": []
  }
 ],
 "metadata": {
  "kernelspec": {
   "display_name": "Python 3 (ipykernel)",
   "language": "python",
   "name": "python3"
  },
  "language_info": {
   "codemirror_mode": {
    "name": "ipython",
    "version": 3
   },
   "file_extension": ".py",
   "mimetype": "text/x-python",
   "name": "python",
   "nbconvert_exporter": "python",
   "pygments_lexer": "ipython3",
   "version": "3.9.7"
  }
 },
 "nbformat": 4,
 "nbformat_minor": 5
}
